{
  "nbformat": 4,
  "nbformat_minor": 0,
  "metadata": {
    "colab": {
      "name": "colab-spark.py",
      "provenance": [],
      "mount_file_id": "1zmZOb_55HA785aXUvUPn1_JflN4ypp75",
      "authorship_tag": "ABX9TyMh8ztxj6O0CohEsDqoNe01",
      "include_colab_link": true
    },
    "kernelspec": {
      "name": "python3",
      "display_name": "Python 3"
    },
    "language_info": {
      "name": "python"
    }
  },
  "cells": [
    {
      "cell_type": "markdown",
      "metadata": {
        "id": "view-in-github",
        "colab_type": "text"
      },
      "source": [
        "<a href=\"https://colab.research.google.com/github/Gabriel1Vitor/spark-colab-google/blob/main/colab_spark_py.ipynb\" target=\"_parent\"><img src=\"https://colab.research.google.com/assets/colab-badge.svg\" alt=\"Open In Colab\"/></a>"
      ]
    },
    {
      "cell_type": "code",
      "execution_count": null,
      "metadata": {
        "colab": {
          "base_uri": "https://localhost:8080/"
        },
        "id": "Bhy1VIZKHoQg",
        "outputId": "c16102c7-f6d9-498a-bc6d-b92005f125dc"
      },
      "outputs": [
        {
          "output_type": "stream",
          "name": "stdout",
          "text": [
            "Collecting pyspark\n",
            "  Downloading pyspark-3.2.1.tar.gz (281.4 MB)\n",
            "\u001b[K     |████████████████████████████████| 281.4 MB 33 kB/s \n",
            "\u001b[?25hCollecting py4j==0.10.9.3\n",
            "  Downloading py4j-0.10.9.3-py2.py3-none-any.whl (198 kB)\n",
            "\u001b[K     |████████████████████████████████| 198 kB 29.8 MB/s \n",
            "\u001b[?25hBuilding wheels for collected packages: pyspark\n",
            "  Building wheel for pyspark (setup.py) ... \u001b[?25l\u001b[?25hdone\n",
            "  Created wheel for pyspark: filename=pyspark-3.2.1-py2.py3-none-any.whl size=281853642 sha256=f323dc49af77eac728fe3d4472bc77a7f339ac72683574d1f5f77d37d5b5337f\n",
            "  Stored in directory: /root/.cache/pip/wheels/9f/f5/07/7cd8017084dce4e93e84e92efd1e1d5334db05f2e83bcef74f\n",
            "Successfully built pyspark\n",
            "Installing collected packages: py4j, pyspark\n",
            "Successfully installed py4j-0.10.9.3 pyspark-3.2.1\n"
          ]
        }
      ],
      "source": [
        "# baixar toda vez , olhar o spark de vez em quando para atualizar o intalador\n",
        "\n",
        "# instalar as dependências\n",
        "\n",
        "#so precisa intalar a bius uma vez\n",
        "!wget -q https://archive.apache.org/dist/spark/spark-3.2.1/spark-3.2.1-bin-hadoop3.2.tgz \n",
        "!tar xf spark-2.4.4-bin-hadoop3.2.tgz \n",
        "!pip install pyspark\n",
        "!apt-get install openjdk-8-jdk-headless -qq > /dev/null"
      ]
    },
    {
      "cell_type": "code",
      "source": [
        "import numpy as np\n",
        "import pandas as pd\n",
        "import pyspark.sql"
      ],
      "metadata": {
        "id": "spwRKW8KJ-e3"
      },
      "execution_count": null,
      "outputs": []
    },
    {
      "cell_type": "code",
      "source": [
        "sever=pyspark.sql.SparkSession\n",
        "spark=sever.builder\\\n",
        "           .master('local')\\\n",
        "           .appName('sparkcolab')\\\n",
        "           .getOrCreate()\n",
        "mus=spark.read.csv('/content/drive/MyDrive/top50.csv',header=True,inferSchema=True)\n",
        "mus.printSchema()"
      ],
      "metadata": {
        "id": "kq9kwv8HII-t",
        "colab": {
          "base_uri": "https://localhost:8080/"
        },
        "outputId": "4d71273f-f816-48ed-d849-15d78774628a"
      },
      "execution_count": null,
      "outputs": [
        {
          "output_type": "stream",
          "name": "stdout",
          "text": [
            "root\n",
            " |-- _c0: integer (nullable = true)\n",
            " |-- Track.Name: string (nullable = true)\n",
            " |-- Artist.Name: string (nullable = true)\n",
            " |-- Genre: string (nullable = true)\n",
            " |-- Beats.Per.Minute: integer (nullable = true)\n",
            " |-- Energy: integer (nullable = true)\n",
            " |-- Danceability: integer (nullable = true)\n",
            " |-- Loudness..dB..: integer (nullable = true)\n",
            " |-- Liveness: integer (nullable = true)\n",
            " |-- Valence.: integer (nullable = true)\n",
            " |-- Length.: integer (nullable = true)\n",
            " |-- Acousticness..: integer (nullable = true)\n",
            " |-- Speechiness.: integer (nullable = true)\n",
            " |-- Popularity: integer (nullable = true)\n",
            "\n"
          ]
        }
      ]
    },
    {
      "cell_type": "markdown",
      "source": [
        "# Nova seção"
      ],
      "metadata": {
        "id": "v9LYkkGBUoPL"
      }
    },
    {
      "cell_type": "code",
      "source": [
        "mus.show()"
      ],
      "metadata": {
        "id": "puCaGTMW5Bdy",
        "outputId": "4f7b38e2-6b1c-475c-fa8e-94e4561f49a1",
        "colab": {
          "base_uri": "https://localhost:8080/"
        }
      },
      "execution_count": null,
      "outputs": [
        {
          "output_type": "stream",
          "name": "stdout",
          "text": [
            "+---+--------------------+-------------+----------------+----------------+------+------------+--------------+--------+--------+-------+--------------+------------+----------+\n",
            "|_c0|          Track.Name|  Artist.Name|           Genre|Beats.Per.Minute|Energy|Danceability|Loudness..dB..|Liveness|Valence.|Length.|Acousticness..|Speechiness.|Popularity|\n",
            "+---+--------------------+-------------+----------------+----------------+------+------------+--------------+--------+--------+-------+--------------+------------+----------+\n",
            "|  1|            Se�orita| Shawn Mendes|    canadian pop|             117|    55|          76|            -6|       8|      75|    191|             4|           3|        79|\n",
            "|  2|               China|     Anuel AA|  reggaeton flow|             105|    81|          79|            -4|       8|      61|    302|             8|           9|        92|\n",
            "|  3|boyfriend (with S...|Ariana Grande|       dance pop|             190|    80|          40|            -4|      16|      70|    186|            12|          46|        85|\n",
            "|  4|Beautiful People ...|   Ed Sheeran|             pop|              93|    65|          64|            -8|       8|      55|    198|            12|          19|        86|\n",
            "|  5|Goodbyes (Feat. Y...|  Post Malone|         dfw rap|             150|    65|          58|            -4|      11|      18|    175|            45|           7|        94|\n",
            "|  6|I Don't Care (wit...|   Ed Sheeran|             pop|             102|    68|          80|            -5|       9|      84|    220|             9|           4|        84|\n",
            "|  7|              Ransom|    Lil Tecca|      trap music|             180|    64|          75|            -6|       7|      23|    131|             2|          29|        92|\n",
            "|  8|   How Do You Sleep?|    Sam Smith|             pop|             111|    68|          48|            -5|       8|      35|    202|            15|           9|        90|\n",
            "|  9|Old Town Road - R...|    Lil Nas X|     country rap|             136|    62|          88|            -6|      11|      64|    157|             5|          10|        87|\n",
            "| 10|             bad guy|Billie Eilish|      electropop|             135|    43|          70|           -11|      10|      56|    194|            33|          38|        95|\n",
            "| 11|            Callaita|    Bad Bunny|       reggaeton|             176|    62|          61|            -5|      24|      24|    251|            60|          31|        93|\n",
            "| 12|Loco Contigo (fea...|     DJ Snake|       dance pop|              96|    71|          82|            -4|      15|      38|    185|            28|           7|        86|\n",
            "| 13|   Someone You Loved|Lewis Capaldi|             pop|             110|    41|          50|            -6|      11|      45|    182|            75|           3|        88|\n",
            "| 14|  Otro Trago - Remix|         Sech|  panamanian pop|             176|    79|          73|            -2|       6|      76|    288|             7|          20|        87|\n",
            "| 15|Money In The Grav...|        Drake|canadian hip hop|             101|    50|          83|            -4|      12|      10|    205|            10|           5|        92|\n",
            "| 16|No Guidance (feat...|  Chris Brown|       dance pop|              93|    45|          70|            -7|      16|      14|    261|            12|          15|        82|\n",
            "| 17|          LA CANCI�N|     J Balvin|           latin|             176|    65|          75|            -6|      11|      43|    243|            15|          32|        90|\n",
            "| 18|Sunflower - Spide...|  Post Malone|         dfw rap|              90|    48|          76|            -6|       7|      91|    158|            56|           5|        91|\n",
            "| 19|              Lalala|          Y2K|canadian hip hop|             130|    39|          84|            -8|      14|      50|    161|            18|           8|        88|\n",
            "| 20|         Truth Hurts|        Lizzo|     escape room|             158|    62|          72|            -3|      12|      41|    173|            11|          11|        91|\n",
            "+---+--------------------+-------------+----------------+----------------+------+------------+--------------+--------+--------+-------+--------------+------------+----------+\n",
            "only showing top 20 rows\n",
            "\n"
          ]
        }
      ]
    }
  ]
}